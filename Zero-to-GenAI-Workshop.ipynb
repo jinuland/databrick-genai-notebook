{
 "cells": [
  {
   "cell_type": "markdown",
   "metadata": {
    "application/vnd.databricks.v1+cell": {
     "cellMetadata": {
      "byteLimit": 2048000,
      "rowLimit": 10000
     },
     "inputWidgets": {},
     "nuid": "4b4b7e40-8289-47e2-bb73-803f6bb6c10d",
     "showTitle": false,
     "title": ""
    }
   },
   "source": [
    "\n",
    "%md\n",
    "<img src=\"https://github.com/dbrxkr/zero-to-gen-ai/blob/main/img/zero-to-genai-header-black.png?raw=true\" style=\"float: right; width: 100%; margin-left: 10px\">\n",
    "\n"
   ]
  },
  {
   "cell_type": "markdown",
   "metadata": {
    "application/vnd.databricks.v1+cell": {
     "cellMetadata": {
      "byteLimit": 2048000,
      "rowLimit": 10000
     },
     "inputWidgets": {},
     "nuid": "e6383521-486c-4818-bafe-84bc30e86c0f",
     "showTitle": false,
     "title": ""
    }
   },
   "source": [
    "\n",
    "# 1. LLM 챗봇 RAG를 위한 준비\n",
    "\n",
    "## Databricks Vector Search를 활용하여 지식기반 RAG 시스템 구축하기\n",
    "\n",
    "이 노트북은 Zero to GenAI 워크샵을 위해서 Databricks 및 AWS의 LLM 기능들을 활용하여 RAG 챗봇을 개발합니다.\n",
    "\n",
    "개발되는 RAG 챗봇은 파운데이션에 없는 정보를 답변할 수 있도록 PDF 문서를 작은 덩어리(chunk)로 구분하고 Vector Search에 인덱싱 합니다.\n",
    "\n",
    "RAG 시스템의 가장 중요한 요소는 고품질의 데이터를 준비하는 것입니다. 본 워크샵 이후에 직접 사내 데이터를 사용하여 RAG 시스템을 구축하는 경우 고품질의 데이터를 준비할 필요가 있습니다.\n",
    "\n",
    "\n",
    "본 워크샵의 예제에서는 대한민국 과학기술정보통신부 산하의 소프트웨어정책연구소의 연구자료 문서를 사용하겠습니다(https://spri.kr/). \n",
    "- PDF문서는 실습용 zip 파일을 '가져오기' 할때 포함되어 있습니다. \n",
    "- 페이지를 작은 텍스트 덩어리(청크)로 분할합니다.\n",
    "- 델타 테이블의 일부로 데이터브릭스 임베딩 모델을 사용하여 임베딩 벡터값을 계산합니다.\n",
    "- 델타 테이블을 기반으로 Databricks Vector Search 인덱스를 생성합니다."
   ]
  },
  {
   "cell_type": "markdown",
   "metadata": {
    "application/vnd.databricks.v1+cell": {
     "cellMetadata": {
      "byteLimit": 2048000,
      "rowLimit": 10000
     },
     "inputWidgets": {},
     "nuid": "3c40c0b6-4a51-49ec-a1c3-e13fe75d0e74",
     "showTitle": false,
     "title": ""
    }
   },
   "source": [
    "## 워크샵에서 개발할 RAG 시스템의 구조도"
   ]
  },
  {
   "cell_type": "markdown",
   "metadata": {
    "application/vnd.databricks.v1+cell": {
     "cellMetadata": {
      "byteLimit": 2048000,
      "rowLimit": 10000
     },
     "inputWidgets": {},
     "nuid": "634db80c-1772-41ed-a3aa-0483e926fa50",
     "showTitle": false,
     "title": ""
    }
   },
   "source": [
    "<img src=\"https://github.com/dbrxkr/zero-to-gen-ai/blob/main/img/zero-to-genai-image01.png?raw=true\" style=\"float: right; width: 100%; margin-left: 10px\">"
   ]
  },
  {
   "cell_type": "markdown",
   "metadata": {
    "application/vnd.databricks.v1+cell": {
     "cellMetadata": {
      "byteLimit": 2048000,
      "rowLimit": 10000
     },
     "inputWidgets": {},
     "nuid": "ef3f2608-5e8d-4ac0-9c4d-28b961902914",
     "showTitle": false,
     "title": ""
    }
   },
   "source": [
    "## Databricks on AWS에서 RAG 실습을 위한 환경설정을 진행 합니다\n",
    "- 관련된 Python 패키지를 설치합니다.\n",
    "- 실습에 도움이되는 Helper 함수들을 정의합니다."
   ]
  },
  {
   "cell_type": "code",
   "execution_count": 0,
   "metadata": {
    "application/vnd.databricks.v1+cell": {
     "cellMetadata": {
      "byteLimit": 2048000,
      "rowLimit": 10000
     },
     "inputWidgets": {},
     "nuid": "82ec2b90-648f-4eb3-8505-b0b61038ab59",
     "showTitle": true,
     "title": "RAG 구현이 필요로 되는 Python 패키지 설치"
    }
   },
   "outputs": [],
   "source": [
    "!pip3 install -qqqq --upgrade pip\n",
    "!pip3 install -qqqq mlflow==2.10.1 lxml==4.9.3 transformers==4.34.0 langchain==0.1.20 beautifulsoup4==4.12.2 pymupdf4llm==0.0.10 aiohttp==3.10.0 gradio==4.0.0 #3.50.2\n",
    "!pip3 install -qqqq dbtunnel[gradio] databricks-vectorsearch==0.22 databricks-sdk databricks databricks-genai-inference\n",
    "dbutils.library.restartPython()"
   ]
  },
  {
   "cell_type": "markdown",
   "metadata": {
    "application/vnd.databricks.v1+cell": {
     "cellMetadata": {
      "byteLimit": 2048000,
      "rowLimit": 10000
     },
     "inputWidgets": {},
     "nuid": "8b830f5b-a985-4cb9-af46-5445d27f2b2f",
     "showTitle": false,
     "title": ""
    }
   },
   "source": [
    "## 👇 사용자의 개별 환경에 따라 아래 정보를 업데이트 해주세요. 👇"
   ]
  },
  {
   "cell_type": "code",
   "execution_count": 0,
   "metadata": {
    "application/vnd.databricks.v1+cell": {
     "cellMetadata": {
      "byteLimit": 2048000,
      "rowLimit": 10000
     },
     "inputWidgets": {},
     "nuid": "4c455b72-3a4c-4920-b8c4-c413a2e910ab",
     "showTitle": true,
     "title": "개별 환경 변수 설정"
    }
   },
   "outputs": [],
   "source": [
    "# 환경 변수 설정. 실제 운영 환경에서는 Databricks Secrets 환경 변수로 설정 하여 보안을 강화해야합니다.\n",
    "uc_catalog = catalog = \"<자신의 카탈로그명>\" # 자신의 카탈로그명 : catalog_<12자리_AWS_Account_ID>\n",
    "databricks_token = \"<Databricks 토큰>\" # Databricks PAT에서 발급받은 dapi로 시작하는 토큰\n",
    "aws_access_key_id = \"<자신의 AWS AccessKey>\" # 자신의 AWS AccessKey 입력\n",
    "aws_secret_access_key = \"<자신의 AWS SecretAccessKey>\" # 자신의 AWS SecretAccessKey 입력"
   ]
  },
  {
   "cell_type": "code",
   "execution_count": 0,
   "metadata": {
    "application/vnd.databricks.v1+cell": {
     "cellMetadata": {
      "byteLimit": 2048000,
      "rowLimit": 10000
     },
     "inputWidgets": {},
     "nuid": "f0efd17f-6b57-4b2a-8927-986004ea7d50",
     "showTitle": true,
     "title": "공통 변수 설정"
    }
   },
   "outputs": [],
   "source": [
    "bedrock_region = \"us-west-2\" # 교육용 리전인 us-west-2 입력\n",
    "uc_schema = schema = db = dbName = \"schema_rag\" # 그대로 사용\n",
    "embedding_model_name = \"embedding_model\" # 그대로 사용\n",
    "generative_model_name = \"foundation_model\" # 그대로 사용\n",
    "\n",
    "host = \"https://\" + spark.conf.get(\"spark.databricks.workspaceUrl\")\n",
    "print(host)"
   ]
  },
  {
   "cell_type": "code",
   "execution_count": 0,
   "metadata": {
    "application/vnd.databricks.v1+cell": {
     "cellMetadata": {
      "byteLimit": 2048000,
      "rowLimit": 10000
     },
     "inputWidgets": {},
     "nuid": "53579f20-10fe-4f49-ad95-d154e9e38d25",
     "showTitle": true,
     "title": "Helper 함수 초기화"
    }
   },
   "outputs": [],
   "source": [
    "%run ./init-script $reset_all_data=true"
   ]
  },
  {
   "cell_type": "markdown",
   "metadata": {
    "application/vnd.databricks.v1+cell": {
     "cellMetadata": {
      "byteLimit": 2048000,
      "rowLimit": 10000
     },
     "inputWidgets": {},
     "nuid": "81e18a30-f449-4608-a3f3-9110dceb4315",
     "showTitle": false,
     "title": ""
    }
   },
   "source": [
    "\n",
    "## Amazon Bedrock 연결을 위한 AccessKey와 SecretAccessKey 등록\n",
    "<br/>\n",
    "<div style=\"background-color: #def2ff; padding: 15px; boarder: 30px; \">\n",
    "  <strong>✅ 정 보</strong><br/>\n",
    "  - 아래 작업은 민감정보인 AWS AccessKey와 SecretAccessKey를 Databricks Secrets 저장소에 저장하는 절차입니다. <br/>\n",
    "  - 본 교육에서는 교육의 목적상, AccessKey, SecretAccessKey, PersonalAccessKey 등을 본 노트북에 노출하여 작업하지만, 실제 운영 환경에서는 클라이언트 환경에서 Databricks CLI를 설치하여 관리자가 Databricks Secrets 저장소를 사용하여 노출되지 않게 관리 및 사용되어야 합니다.\n",
    "</div>"
   ]
  },
  {
   "cell_type": "code",
   "execution_count": 0,
   "metadata": {
    "application/vnd.databricks.v1+cell": {
     "cellMetadata": {
      "byteLimit": 2048000,
      "rowLimit": 10000
     },
     "inputWidgets": {},
     "nuid": "e9d6c127-74fa-4f03-9a59-a2d1189b1e10",
     "showTitle": true,
     "title": "Databricks Secret 저장소에 secret scope 생성"
    }
   },
   "outputs": [],
   "source": [
    "import requests\n",
    "import json\n",
    "\n",
    "url = f\"{host}/api/2.0/secrets/scopes/create\"\n",
    "\n",
    "payload = json.dumps({\n",
    "  \"scope\": \"zero-to-scope\",\n",
    "  \"scope_backend_type\": \"DATABRICKS\"\n",
    "})\n",
    "headers = {\n",
    "  'Content-Type': 'application/json',\n",
    "  'Authorization': f'Bearer {databricks_token}'\n",
    "}\n",
    "\n",
    "response = requests.request(\"POST\", url, headers=headers, data=payload)\n",
    "\n",
    "print(response.text)\n"
   ]
  },
  {
   "cell_type": "code",
   "execution_count": 0,
   "metadata": {
    "application/vnd.databricks.v1+cell": {
     "cellMetadata": {
      "byteLimit": 2048000,
      "rowLimit": 10000
     },
     "inputWidgets": {},
     "nuid": "33b0dd23-5a34-4b92-988a-167be379b478",
     "showTitle": true,
     "title": "Databricks Secret 저장소에 AWS access key값 저장"
    }
   },
   "outputs": [],
   "source": [
    "import requests\n",
    "import json\n",
    "\n",
    "url = f\"{host}/api/2.0/secrets/put\"\n",
    "\n",
    "payload = json.dumps({\n",
    "  \"scope\": \"zero-to-scope\",\n",
    "  \"key\": \"access_key\",\n",
    "  \"string_value\": f\"{aws_access_key_id}\"\n",
    "})\n",
    "headers = {\n",
    "  'Content-Type': 'application/json',\n",
    "  'Authorization': f'Bearer {databricks_token}'\n",
    "}\n",
    "\n",
    "response = requests.request(\"POST\", url, headers=headers, data=payload)\n",
    "\n",
    "print(response.status_code)\n"
   ]
  },
  {
   "cell_type": "code",
   "execution_count": 0,
   "metadata": {
    "application/vnd.databricks.v1+cell": {
     "cellMetadata": {
      "byteLimit": 2048000,
      "rowLimit": 10000
     },
     "inputWidgets": {},
     "nuid": "9d337eb9-e375-42f2-aa86-9de8377ff213",
     "showTitle": true,
     "title": "Databricks Secret 저장소에 AWS access access key값 저장"
    }
   },
   "outputs": [],
   "source": [
    "import requests\n",
    "import json\n",
    "\n",
    "url = f\"{host}/api/2.0/secrets/put\"\n",
    "\n",
    "payload = json.dumps({\n",
    "  \"scope\": \"zero-to-scope\",\n",
    "  \"key\": \"secret_access_key\",\n",
    "  \"string_value\": f\"{aws_secret_access_key}\"\n",
    "})\n",
    "headers = {\n",
    "  'Content-Type': 'application/json',\n",
    "  'Authorization': f'Bearer {databricks_token}'\n",
    "}\n",
    "\n",
    "response = requests.request(\"POST\", url, headers=headers, data=payload)\n",
    "\n",
    "print(response.status_code)\n"
   ]
  },
  {
   "cell_type": "code",
   "execution_count": 0,
   "metadata": {
    "application/vnd.databricks.v1+cell": {
     "cellMetadata": {
      "byteLimit": 2048000,
      "rowLimit": 10000
     },
     "inputWidgets": {},
     "nuid": "81b24cd0-fc0d-4b2e-a708-947d8a5c73eb",
     "showTitle": true,
     "title": "Databricks Secret 저장소에 저장된 key들 확인"
    }
   },
   "outputs": [],
   "source": [
    "import requests\n",
    "import json\n",
    "\n",
    "url = f\"{host}/api/2.0/secrets/list?scope=zero-to-scope\"\n",
    "\n",
    "payload = json.dumps({\n",
    "  \"scope\": \"zero-to-scope\",\n",
    "  \"scope_backend_type\": \"DATABRICKS\"\n",
    "})\n",
    "headers = {\n",
    "  'Content-Type': 'application/json',\n",
    "  'Authorization': f'Bearer {databricks_token}'\n",
    "}\n",
    "\n",
    "response = requests.request(\"GET\", url, headers=headers, data=payload)\n",
    "\n",
    "print(response.text)\n"
   ]
  },
  {
   "cell_type": "markdown",
   "metadata": {
    "application/vnd.databricks.v1+cell": {
     "cellMetadata": {
      "byteLimit": 2048000,
      "rowLimit": 10000
     },
     "inputWidgets": {},
     "nuid": "a0621079-5b38-405b-b9b2-0f2a680934f0",
     "showTitle": false,
     "title": ""
    }
   },
   "source": [
    "## 한국어 임베딩 및 생성을 위한 Amazon Bedrock LLM model 엔드포인트 등록\n",
    "\n",
    "본 RAG 실습에서는 2개의 대규모 언어 모델(LLM)을 사용할 것입니다.\n",
    "\n",
    "- 임베딩 모델(Embedding Model) : Databricks Vertor Search에 저장 및 검색에 사용할 문장 임베딩을 위한 언어 모델\n",
    "- 문장 생성 파운데이션 모델(Genaration Foundation Model) : Databricks Vector Search의 검색 결과를 바탕으로 사용자에게 답변을 생성하기 위한 언어 모델\n",
    "\n",
    "Databricks는 내재된 다양한 임베딩 모델과 파운데이션 모델을 제공하지만, 본 워크샵에서는 Aamazon Bedrock을 연계하여 RAG 시스템을 구축할 것입니다. \n",
    "\n",
    "- 임베딩 모델 : Amazon Bedrock Titan embed g1 모델\n",
    "- 문장 생성 파운데이션 모델 : Amazon Bedrock Claude 3 sonnet 모델\n"
   ]
  },
  {
   "cell_type": "markdown",
   "metadata": {
    "application/vnd.databricks.v1+cell": {
     "cellMetadata": {
      "byteLimit": 2048000,
      "rowLimit": 10000
     },
     "inputWidgets": {},
     "nuid": "14bb3ccd-d372-40d2-bff2-12329a18f28a",
     "showTitle": false,
     "title": ""
    }
   },
   "source": [
    "<img src=\"https://github.com/dbrxkr/zero-to-gen-ai/blob/main/img/zero-to-genai-image00.png?raw=true\" style=\"float: right; width: 100%; margin-left: 10px\">"
   ]
  },
  {
   "cell_type": "code",
   "execution_count": 0,
   "metadata": {
    "application/vnd.databricks.v1+cell": {
     "cellMetadata": {
      "byteLimit": 2048000,
      "rowLimit": 10000
     },
     "inputWidgets": {},
     "nuid": "8c9a82ed-4c62-4254-b588-4e3db79bc3a5",
     "showTitle": true,
     "title": "임베딩 모델 엔드포인트 생성"
    }
   },
   "outputs": [],
   "source": [
    "import mlflow.deployments\n",
    "deploy_client = mlflow.deployments.get_deploy_client(\"databricks\")\n",
    "\n",
    "if embedding_model_name in [endpoints['name'] for endpoints in deploy_client.list_endpoints()]:    \n",
    "    #deploy_client.delete_endpoint(embedding_model_name)\n",
    "    print(\"동일한 모델의 엔드포인트가 이미 존재합니다.\")\n",
    "\n",
    "if embedding_model_name not in [endpoints['name'] for endpoints in deploy_client.list_endpoints()]:    \n",
    "    deploy_client.create_endpoint(\n",
    "        name=embedding_model_name,\n",
    "        config={\n",
    "            \"served_entities\": [\n",
    "                {\n",
    "                    \"external_model\": {\n",
    "                        \"name\": \"titan-embed-g1-text-02\",\n",
    "                        \"provider\": \"amazon-bedrock\",\n",
    "                        \"task\": \"llm/v1/embeddings\",\n",
    "                        \"amazon_bedrock_config\": {\n",
    "                            \"aws_region\": f\"{bedrock_region}\",\n",
    "                            \"aws_access_key_id\": \"{{secrets/zero-to-scope/access_key}}\",\n",
    "                            \"aws_secret_access_key\": \"{{secrets/zero-to-scope/secret_access_key}}\",\n",
    "                            \"bedrock_provider\": \"amazon\",\n",
    "                        },\n",
    "                    }\n",
    "                }\n",
    "            ]\n",
    "        },\n",
    "    )\n",
    "    print(\"엔드포인트가 배포 되었습니다.\")\n"
   ]
  },
  {
   "cell_type": "code",
   "execution_count": 0,
   "metadata": {
    "application/vnd.databricks.v1+cell": {
     "cellMetadata": {
      "byteLimit": 2048000,
      "rowLimit": 10000
     },
     "inputWidgets": {},
     "nuid": "d78904c1-719b-4313-83a2-7dfd1694c6c1",
     "showTitle": true,
     "title": "\b생성 파운데이션 모델 엔드포인트 생성"
    }
   },
   "outputs": [],
   "source": [
    "import mlflow.deployments\n",
    "deploy_client = mlflow.deployments.get_deploy_client(\"databricks\")\n",
    "\n",
    "if generative_model_name in [endpoints['name'] for endpoints in deploy_client.list_endpoints()]:    \n",
    "    #deploy_client.delete_endpoint(generative_model_name)\n",
    "    print(\"동일한 모델의 엔드포인트가 이미 존재합니다.\")\n",
    "\n",
    "# claude-3-5-sonnet-20240620-v1:0, claude-3-sonnet-20240229-v1:0\n",
    "if generative_model_name not in [endpoints['name'] for endpoints in deploy_client.list_endpoints()]:    \n",
    "    deploy_client.create_endpoint(\n",
    "        name=generative_model_name,\n",
    "        config={\n",
    "            \"served_entities\": [\n",
    "                {\n",
    "                    \"external_model\": {\n",
    "                        \"name\": \"claude-3-sonnet-20240229-v1:0\",\n",
    "                        \"provider\": \"amazon-bedrock\",\n",
    "                        \"task\": \"llm/v1/chat\",\n",
    "                        \"amazon_bedrock_config\": {\n",
    "                            \"aws_region\": f\"{bedrock_region}\",\n",
    "                            \"aws_access_key_id\": \"{{secrets/zero-to-scope/access_key}}\",\n",
    "                            \"aws_secret_access_key\": \"{{secrets/zero-to-scope/secret_access_key}}\",\n",
    "                            \"bedrock_provider\": \"anthropic\",\n",
    "                        },\n",
    "                    }\n",
    "                }\n",
    "            ]\n",
    "        },\n",
    "    )\n",
    "    print(\"엔드포인트가 배포 되었습니다.\")\n"
   ]
  },
  {
   "cell_type": "code",
   "execution_count": 0,
   "metadata": {
    "application/vnd.databricks.v1+cell": {
     "cellMetadata": {
      "byteLimit": 2048000,
      "rowLimit": 10000
     },
     "inputWidgets": {},
     "nuid": "1c1d6606-5eca-4513-94c3-e60119b71096",
     "showTitle": true,
     "title": "위 엔드포인트 배포의 안정성을 위해 약간의 시간을 대기"
    }
   },
   "outputs": [],
   "source": [
    "# 모델 배포가 완료되기까지 5분 정도 기다립니다.\n",
    "import time\n",
    "time.sleep(300)"
   ]
  },
  {
   "cell_type": "markdown",
   "metadata": {
    "application/vnd.databricks.v1+cell": {
     "cellMetadata": {
      "byteLimit": 2048000,
      "rowLimit": 10000
     },
     "inputWidgets": {},
     "nuid": "0d3d3743-8130-4f1f-a0c4-edf16834d250",
     "showTitle": false,
     "title": ""
    }
   },
   "source": [
    "# 2. PDF문서에서 문서를 Markdown 형태로 추출하기\n",
    "\n",
    "저장한 PDF를 Databricks Vector Search에 저장하기위해 처리해야 하는 단계는 다음과 같습니다:\n",
    "\n",
    "- PDF 문서를 로드하여 추출 페이지, 추출 레이아웃을 지정합니다.\n",
    "- pymupdf4llm 패키지를 사용하여 PDF문서의 내용을 Markdown 포멧으로 추출합니다.\n",
    "- 추출한 Markdown텍스트를 가공 합니다.\n",
    "- 전처리된 Markdown텍스트를 분할합니다.\n",
    "\n",
    "PDF를 추출하기위해 PyMuPDF4LLM 패키지를 사용합니다."
   ]
  },
  {
   "cell_type": "markdown",
   "metadata": {
    "application/vnd.databricks.v1+cell": {
     "cellMetadata": {
      "byteLimit": 2048000,
      "rowLimit": 10000
     },
     "inputWidgets": {},
     "nuid": "3ab76e6c-a26b-45ba-9877-f88fb794888e",
     "showTitle": false,
     "title": ""
    }
   },
   "source": [
    "## PyMuPDF4LLM 패키지 \n",
    "- 이 패키지는 PyMuPDF를 사용하여 파일의 페이지를 마크다운 형식의 텍스트로 변환합니다.\n",
    "- 표준 텍스트와 표를 감지하여 올바른 읽기 순서로 가져온 다음 GitHub 호환 마크다운 텍스트로 함께 변환합니다.\n",
    "- 헤더 줄은 글꼴 크기를 통해 식별되며 하나 이상의 # 태그가 적절하게 접두사로 붙습니다.\n",
    "- 굵게, 이탤릭체, 단일 간격 텍스트 및 코드 블록이 감지되고 그에 따라 형식이 지정됩니다. 정렬된 목록과 정렬되지 않은 목록에도 비슷하게 적용됩니다.\n",
    "- 기본적으로 모든 문서 페이지가 처리됩니다. 원하는 경우 0을 기준으로 한 페이지 번호 목록을 제공하여 페이지의 하위 집합을 지정할 수 있습니다.\n",
    "- 관련 매뉴얼 페이지(https://pymupdf4llm.readthedocs.io/en/latest/)\n",
    "\n",
    "추출 파라미터:\n",
    "- doc: 문서 또는 문자열\n",
    "- pages: 고려할 페이지 번호 목록(0부터 시작).\n",
    "- hdr_info: 'get_hdr_info'라는 메서드가 있는 콜러블 또는 객체\n",
    "- write_images: (bool) 이미지/그림을 파일로 저장할지 여부\n",
    "- page_chunks: (bool) 출력을 페이지별로 분할할지 여부\n",
    "- margins: 콘텐츠가 겹치는 여백 영역을 고려하지 않습니다\n",
    "- dpi: (int) 생성된 이미지의 원하는 해상도\n",
    "- page_width: (float) 페이지 레이아웃이 가변적인 경우 가정\n",
    "- page_height: 페이지 레이아웃이 가변인 경우 (float) 가정\n",
    "- table_strategy: 테이블 감지 전략 선택\n",
    "- graphics_limit: (int) 벡터 그래픽이 너무 많은 페이지 무시"
   ]
  },
  {
   "cell_type": "markdown",
   "metadata": {
    "application/vnd.databricks.v1+cell": {
     "cellMetadata": {
      "byteLimit": 2048000,
      "rowLimit": 10000
     },
     "inputWidgets": {},
     "nuid": "00b69e35-c876-433a-8ab0-e109b99a4e7c",
     "showTitle": false,
     "title": ""
    }
   },
   "source": [
    "## PDF 레이아웃내에 컨텐츠 영역을 지정하여 추출"
   ]
  },
  {
   "cell_type": "markdown",
   "metadata": {
    "application/vnd.databricks.v1+cell": {
     "cellMetadata": {
      "byteLimit": 2048000,
      "rowLimit": 10000
     },
     "inputWidgets": {},
     "nuid": "cfc27e6f-8e5d-4c81-90d1-2556520cb475",
     "showTitle": false,
     "title": ""
    }
   },
   "source": [
    "<img src=\"https://github.com/dbrxkr/zero-to-gen-ai/blob/main/img/zero-to-genai-data-prep01.png?raw=true\" style=\"float: right; width: 100%; margin-left: 10px\">"
   ]
  },
  {
   "cell_type": "code",
   "execution_count": 0,
   "metadata": {
    "application/vnd.databricks.v1+cell": {
     "cellMetadata": {
      "byteLimit": 2048000,
      "rowLimit": 10000
     },
     "inputWidgets": {},
     "nuid": "ec271591-4fa6-4863-89dc-86757aff608b",
     "showTitle": true,
     "title": "컨텐츠 영역을 지정하여 추출"
    }
   },
   "outputs": [],
   "source": [
    "import pymupdf4llm\n",
    "from langchain.text_splitter import MarkdownTextSplitter\n",
    "\n",
    "md_text = pymupdf4llm.to_markdown(doc=\"./krpdf.pdf\"\n",
    "                                  ,pages=list(range(5, 20))                              \n",
    "                                  ,write_images=False\n",
    "                                  ,margins=(20, 60, 20, 60) # 왼쪽, 위쪽, 오른쪽, 아래\n",
    "                                  ,table_strategy='lines_strict'\n",
    "                                  ,page_chunks=False\n",
    "                                  #,graphics_limit=20\n",
    "                                  ) \n",
    "\n",
    "\n",
    "print(md_text)"
   ]
  },
  {
   "cell_type": "markdown",
   "metadata": {
    "application/vnd.databricks.v1+cell": {
     "cellMetadata": {
      "byteLimit": 2048000,
      "rowLimit": 10000
     },
     "inputWidgets": {},
     "nuid": "3f25f936-9239-44b8-87a2-bd9944ce705e",
     "showTitle": false,
     "title": ""
    }
   },
   "source": [
    "## 레이아웃 손상으로 발생한 에러 메시지를 제거"
   ]
  },
  {
   "cell_type": "code",
   "execution_count": 0,
   "metadata": {
    "application/vnd.databricks.v1+cell": {
     "cellMetadata": {
      "byteLimit": 2048000,
      "rowLimit": 10000
     },
     "inputWidgets": {},
     "nuid": "2979fcc3-be15-43fd-a829-ace469cb40ea",
     "showTitle": true,
     "title": "눈에 보이지 않는 손상된 레이아웃으로 인해 발생한 에러 메시지 제거"
    }
   },
   "outputs": [],
   "source": [
    "import re\n",
    "\n",
    "def remove_syntax_error_lines(text):\n",
    "    # \"syntax error\"를 포함하는 모든 줄을 제거하는 패턴 정의\n",
    "    pattern = re.compile(r'.*syntax error.*\\n?')\n",
    "    \n",
    "    # 패턴에 맞는 줄을 빈 문자열로 대체\n",
    "    cleaned_text = re.sub(pattern, '', text)\n",
    "    \n",
    "    return cleaned_text\n",
    "\n",
    "# \"syntax error\"가 포함된 줄을 제거하는 함수 호출\n",
    "md_text_temp = remove_syntax_error_lines(md_text)\n",
    "\n",
    "print(md_text_temp)\n"
   ]
  },
  {
   "cell_type": "markdown",
   "metadata": {
    "application/vnd.databricks.v1+cell": {
     "cellMetadata": {
      "byteLimit": 2048000,
      "rowLimit": 10000
     },
     "inputWidgets": {},
     "nuid": "82ba71f1-0bf7-441f-b2ce-56f8c927d88b",
     "showTitle": false,
     "title": ""
    }
   },
   "source": [
    "## 불필요한 각주 제거"
   ]
  },
  {
   "cell_type": "markdown",
   "metadata": {
    "application/vnd.databricks.v1+cell": {
     "cellMetadata": {
      "byteLimit": 2048000,
      "rowLimit": 10000
     },
     "inputWidgets": {},
     "nuid": "cef780c1-fed4-4d15-9a26-e6a493a93310",
     "showTitle": false,
     "title": ""
    }
   },
   "source": [
    "<img src=\"https://github.com/dbrxkr/zero-to-gen-ai/blob/main/img/zero-to-genai-data-prep02.png?raw=true\" style=\"float: right; width: 100%; margin-left: 10px\">"
   ]
  },
  {
   "cell_type": "code",
   "execution_count": 0,
   "metadata": {
    "application/vnd.databricks.v1+cell": {
     "cellMetadata": {
      "byteLimit": 2048000,
      "rowLimit": 10000
     },
     "inputWidgets": {},
     "nuid": "0673012b-0303-466a-8fcb-0a3c6cde8bec",
     "showTitle": true,
     "title": "모든 페이지의 각주를 제거"
    }
   },
   "outputs": [],
   "source": [
    "import re\n",
    "\n",
    "def remove_footnotes_and_references(text):\n",
    "    # 페이지 구분자 정의\n",
    "    page_split_pattern = re.compile(r'-----')\n",
    "    \n",
    "    # 페이지별로 텍스트 분할\n",
    "    pages = page_split_pattern.split(text)\n",
    "    \n",
    "    # 각 페이지에서 각주 내용을 제거하는 패턴 정의\n",
    "    footnote_pattern = re.compile(r'\\d+\\) .*(\\n.*)*')\n",
    "    \n",
    "    # 본문 내의 각주 참조 제거 패턴 정의\n",
    "    reference_pattern = re.compile(r'\\[\\d+\\)\\]')\n",
    "    \n",
    "    cleaned_pages = []\n",
    "    \n",
    "    for page in pages:\n",
    "        # 각주 내용을 제거\n",
    "        cleaned_page = re.sub(footnote_pattern, '', page).strip()\n",
    "        # 본문 내의 각주 참조 제거\n",
    "        cleaned_page = re.sub(reference_pattern, '', cleaned_page).strip()\n",
    "        cleaned_pages.append(cleaned_page)\n",
    "    \n",
    "    # 페이지 구분자를 다시 추가하여 결합\n",
    "    cleaned_text = '\\n\\n-----\\n'.join(cleaned_pages)\n",
    "    \n",
    "    return cleaned_text\n",
    "\n",
    "\n",
    "# 각 페이지의 각주 내용을 제거하는 함수 호출\n",
    "md_text_temp = remove_footnotes_and_references(md_text_temp)\n",
    "\n",
    "print(md_text_temp)\n"
   ]
  },
  {
   "cell_type": "markdown",
   "metadata": {
    "application/vnd.databricks.v1+cell": {
     "cellMetadata": {
      "byteLimit": 2048000,
      "rowLimit": 10000
     },
     "inputWidgets": {},
     "nuid": "e8ab1ac3-7e17-4645-8136-79b0d15d025e",
     "showTitle": false,
     "title": ""
    }
   },
   "source": [
    "## 문서에서 대/중/소분류 제목을 식별"
   ]
  },
  {
   "cell_type": "markdown",
   "metadata": {
    "application/vnd.databricks.v1+cell": {
     "cellMetadata": {
      "byteLimit": 2048000,
      "rowLimit": 10000
     },
     "inputWidgets": {},
     "nuid": "0b05e183-6e89-46ea-88a7-4855eb294fd1",
     "showTitle": false,
     "title": ""
    }
   },
   "source": [
    "<img src=\"https://github.com/dbrxkr/zero-to-gen-ai/blob/main/img/zero-to-genai-data-prep03.png?raw=true\" style=\"float: right; width: 100%; margin-left: 10px\">"
   ]
  },
  {
   "cell_type": "code",
   "execution_count": 0,
   "metadata": {
    "application/vnd.databricks.v1+cell": {
     "cellMetadata": {
      "byteLimit": 2048000,
      "rowLimit": 10000
     },
     "inputWidgets": {},
     "nuid": "530a99b5-2708-4140-ade0-429343f3c982",
     "showTitle": true,
     "title": "문서의 컨텐츠를 마크다운 대/중/소로 분류"
    }
   },
   "outputs": [],
   "source": [
    "import re\n",
    "\n",
    "# '\u0001'을 ' '로 변경\n",
    "md_text_temp = re.sub(r'\u0001', ' ', md_text_temp)\n",
    "\n",
    "# '####'을 '# '로 변경\n",
    "md_text_temp = re.sub(r'####', '#', md_text_temp)\n",
    "\n",
    "# 숫자. 으로 시작하는 항목을 ## 숫자. 으로 변경\n",
    "md_text_temp = re.sub(r'^(\\d+)\\. ', r'## \\1. ', md_text_temp, flags=re.MULTILINE)\n",
    "\n",
    "# '□'으로 시작하는 문장을 ### 으로 변경\n",
    "md_text_temp = re.sub(r'^□', r'### ', md_text_temp, flags=re.MULTILINE)\n",
    "\n",
    "print(md_text_temp)\n"
   ]
  },
  {
   "cell_type": "markdown",
   "metadata": {
    "application/vnd.databricks.v1+cell": {
     "cellMetadata": {
      "byteLimit": 2048000,
      "rowLimit": 10000
     },
     "inputWidgets": {},
     "nuid": "7a192b67-a1d3-4528-911a-48d4c8aede13",
     "showTitle": false,
     "title": ""
    }
   },
   "source": [
    "## 한국 공공기관에서 자주 사용되는 기호를 제거 또는 치환"
   ]
  },
  {
   "cell_type": "code",
   "execution_count": 0,
   "metadata": {
    "application/vnd.databricks.v1+cell": {
     "cellMetadata": {
      "byteLimit": 2048000,
      "rowLimit": 10000
     },
     "inputWidgets": {},
     "nuid": "233bf750-c4d2-40b5-9b52-f2fe575ea55b",
     "showTitle": true,
     "title": "마크다운언어가 이해하지 못하는 특수기호 제거"
    }
   },
   "outputs": [],
   "source": [
    "import re\n",
    "\n",
    "md_text_temp = re.sub(r'ㅇ', '- ', md_text_temp)\n",
    "md_text_temp = re.sub(r'→', ' 에서 ', md_text_temp)\n",
    "md_text_temp = re.sub(r'’', '20', md_text_temp)\n",
    "md_text_temp = re.sub(r'☞', '- ', md_text_temp)\n",
    "md_text_temp = re.sub(r'[\\*\\*\\[\\]▲「」]', '', md_text_temp)\n",
    "\n",
    "print(md_text_temp)"
   ]
  },
  {
   "cell_type": "markdown",
   "metadata": {
    "application/vnd.databricks.v1+cell": {
     "cellMetadata": {
      "byteLimit": 2048000,
      "rowLimit": 10000
     },
     "inputWidgets": {},
     "nuid": "100c4653-e031-48ce-a4fc-ef75b377370a",
     "showTitle": false,
     "title": ""
    }
   },
   "source": [
    "## 유의미한 정보를 담고 있는 괄호안의 내용은 남겨두고 인용 구문은 삭제"
   ]
  },
  {
   "cell_type": "markdown",
   "metadata": {
    "application/vnd.databricks.v1+cell": {
     "cellMetadata": {
      "byteLimit": 2048000,
      "rowLimit": 10000
     },
     "inputWidgets": {},
     "nuid": "e0d4941e-9920-42f3-9da4-e53dbf47b5a9",
     "showTitle": false,
     "title": ""
    }
   },
   "source": [
    "<img src=\"https://github.com/dbrxkr/zero-to-gen-ai/blob/main/img/zero-to-genai-data-prep04.png?raw=true\" style=\"float: right; width: 100%; margin-left: 10px\">"
   ]
  },
  {
   "cell_type": "code",
   "execution_count": 0,
   "metadata": {
    "application/vnd.databricks.v1+cell": {
     "cellMetadata": {
      "byteLimit": 2048000,
      "rowLimit": 10000
     },
     "inputWidgets": {},
     "nuid": "2bf1d702-fe22-4d4c-bebd-9ab3ad4d9184",
     "showTitle": true,
     "title": "모든 문서의 인용 구문 삭제"
    }
   },
   "outputs": [],
   "source": [
    "import re\n",
    "\n",
    "# 괄호 안에 쉼표가 있는 경우 괄호와 그 안의 내용을 모두 삭제\n",
    "md_text_temp = re.sub(r'\\([^()]*,[^()]*\\)', '', md_text_temp)\n",
    "\n",
    "print(md_text_temp)\n"
   ]
  },
  {
   "cell_type": "markdown",
   "metadata": {
    "application/vnd.databricks.v1+cell": {
     "cellMetadata": {
      "byteLimit": 2048000,
      "rowLimit": 10000
     },
     "inputWidgets": {},
     "nuid": "7d5078b4-d69b-40b7-8062-74da60876d8c",
     "showTitle": false,
     "title": ""
    }
   },
   "source": [
    "## 문서에서 표를 추출하여 마크다운 문서로 변환"
   ]
  },
  {
   "cell_type": "markdown",
   "metadata": {
    "application/vnd.databricks.v1+cell": {
     "cellMetadata": {
      "byteLimit": 2048000,
      "rowLimit": 10000
     },
     "inputWidgets": {},
     "nuid": "e88f22f1-bdd3-4325-9e3c-8142380bfca5",
     "showTitle": false,
     "title": ""
    }
   },
   "source": [
    "<img src=\"https://github.com/dbrxkr/zero-to-gen-ai/blob/main/img/zero-to-genai-data-prep05.png?raw=true\" style=\"float: right; width: 100%; margin-left: 10px\">"
   ]
  },
  {
   "cell_type": "code",
   "execution_count": 0,
   "metadata": {
    "application/vnd.databricks.v1+cell": {
     "cellMetadata": {
      "byteLimit": 2048000,
      "rowLimit": 10000
     },
     "inputWidgets": {},
     "nuid": "8a1f5b00-7327-4155-a843-27802cbc1f4d",
     "showTitle": true,
     "title": "문서의 표를 마크다운으로 추출하고 레이아웃 정리"
    }
   },
   "outputs": [],
   "source": [
    "import re\n",
    "\n",
    "# '-----' 기호를 ''로 치환\n",
    "md_text_temp = re.sub(r'-----', '', md_text_temp)\n",
    "\n",
    "# 모든 개행 삭제\n",
    "md_text_temp = md_text_temp.replace('\\n\\n', '')\n",
    "\n",
    "# 이중 공백 삭제\n",
    "md_text_temp = md_text_temp.replace('  ', ' ')\n",
    "\n",
    "# '#'가 등장하면 앞에 개행을 추가\n",
    "md_text_temp = re.sub(r'(#+)', r'\\n\\n\\1', md_text_temp)\n",
    "\n",
    "# 'C'와 '#' 사이의 개행이나 공백을 제거\n",
    "md_text_temp = re.sub(r'C\\s*#', r'C#', md_text_temp)\n",
    "\n",
    "# '-'가 등장하면 앞에 개행을 추가\n",
    "# '-' 다음에 공백이 아닌 문자가 오는 경우에만 새로운 줄로 분리\n",
    "# 즉, '-' 뒤에 공백이 오면 항목 구분자로 처리하지 않음\n",
    "md_text_temp = re.sub(r'- (?=\\S)', r'\\n\\n- ', md_text_temp.strip())\n",
    "\n",
    "# '표' 앞에 두 번 개행 추가\n",
    "md_text_temp = re.sub(r'(표 \\d)', r'\\n\\n\\1', md_text_temp)\n",
    "# '표 2', '표 3', '표 4' 다음에 '|' 앞에서 두 번 개행 추가\n",
    "md_text_temp = re.sub(r'(표 \\d.*?)(\\|)', r'\\1\\n\\n\\2', md_text_temp)\n",
    "\n",
    "# '※'로 시작하는 문장과 그 후에 오는 관련 내용을 제거\n",
    "md_text_temp = re.sub(r'※[^­]*­', '\\n', md_text_temp, flags=re.DOTALL)\n",
    "\n",
    "print(md_text_temp)\n"
   ]
  },
  {
   "cell_type": "markdown",
   "metadata": {
    "application/vnd.databricks.v1+cell": {
     "cellMetadata": {
      "byteLimit": 2048000,
      "rowLimit": 10000
     },
     "inputWidgets": {},
     "nuid": "201c2c54-8f67-4b5f-b509-9df47616c773",
     "showTitle": false,
     "title": ""
    }
   },
   "source": [
    "\n",
    "# 3. 문서 페이지를 작은 덩어리(chunk)로 나누기\n",
    "\n",
    "LLM 모델에는 일반적으로 최대 입력 컨텍스트 길이가 있으며, 매우 긴 텍스트의 임베딩을 계산할 수 없습니다.\n",
    "또한 컨텍스트 길이가 길수록 모델이 응답을 제공하는 데 시간이 더 오래 걸립니다.\n",
    "\n",
    "모델의 성능을 높이려면 문서 준비가 핵심이며, 데이터 세트에 따라 여러 가지 전략이 존재합니다:\n",
    "\n",
    "- 문서를 작은 덩어리(단락, 헤더)로 나누는 전략을 수행할 수 있습니다.(마크다운 또는 HTML로 식별)\n",
    "- 문서를 고정된 길이(토큰 수)로 나누는 전략을 수행할 수 있습니다.\n",
    "- 청크 크기는 콘텐츠와 이를 사용하여 프롬프트를 작성하는 방식에 따라 달라집니다. 프롬프트에 작은 문서 청크를 여러 개 추가하면 큰 청크만 보내는 것과 다른 결과가 나올 수 있습니다.\n",
    "- 큰 청크로 나누고 모델에 각 청크를 일회성 작업으로 요약하도록 요청하면 실시간 추론 속도가 빨라집니다.\n",
    "- 여러 에이전트를 만들어 각각의 큰 문서를 병렬로 평가하고 최종 에이전트에게 답변을 작성하도록 요청하는 전략을 구사할 수 있습니다.\n"
   ]
  },
  {
   "cell_type": "markdown",
   "metadata": {
    "application/vnd.databricks.v1+cell": {
     "cellMetadata": {
      "byteLimit": 2048000,
      "rowLimit": 10000
     },
     "inputWidgets": {},
     "nuid": "ba6630a3-1560-4489-aeb6-d5775fba125a",
     "showTitle": false,
     "title": ""
    }
   },
   "source": [
    "<img src=\"https://github.com/dbrxkr/zero-to-gen-ai/blob/main/img/zero-to-genai-image02.png?raw=true\" style=\"float: right; width: 100%; margin-left: 10px\">"
   ]
  },
  {
   "cell_type": "markdown",
   "metadata": {
    "application/vnd.databricks.v1+cell": {
     "cellMetadata": {
      "byteLimit": 2048000,
      "rowLimit": 10000
     },
     "inputWidgets": {},
     "nuid": "300363c1-4bb5-485a-bce2-508631d85a45",
     "showTitle": false,
     "title": ""
    }
   },
   "source": [
    "## MarkdownHeaderTextSplitter를 사용하여 PDF에서 추출한 내용을 Markdown형식으로 추출"
   ]
  },
  {
   "cell_type": "code",
   "execution_count": 0,
   "metadata": {
    "application/vnd.databricks.v1+cell": {
     "cellMetadata": {
      "byteLimit": 2048000,
      "rowLimit": 10000
     },
     "inputWidgets": {},
     "nuid": "8b6fe738-61ef-4aa0-92a8-02d91e67a6ca",
     "showTitle": true,
     "title": "MarkdownHeaderTextSplitter를 사용하여 청킹"
    }
   },
   "outputs": [],
   "source": [
    "from langchain_text_splitters import MarkdownHeaderTextSplitter\n",
    "\n",
    "headers_to_split_on = [\n",
    "                        (\"#\", \"Header 1\"),\n",
    "                        (\"##\", \"Header 2\"),\n",
    "                        (\"###\", \"Header 3\")\n",
    "                      ]\n",
    "\n",
    "# 텍스트를 마크다운 헤더를 기준으로 청크로 분할하는 MarkdownHeaderTextSplitter 객체를 생성\n",
    "markdown_splitter = MarkdownHeaderTextSplitter(headers_to_split_on=headers_to_split_on)\n",
    "\n",
    "# 텍스트를 헤더를 기준으로 청크로 분할하여 리스트 객체로 저장\n",
    "md_header_splits = markdown_splitter.split_text(md_text_temp)\n",
    "\n",
    "# 청크를 출력하여 확인\n",
    "for chunk in md_header_splits:\n",
    "  print(f\"{chunk.to_json}\")\n",
    "  print(\"-----------------------------------\")"
   ]
  },
  {
   "cell_type": "markdown",
   "metadata": {
    "application/vnd.databricks.v1+cell": {
     "cellMetadata": {
      "byteLimit": 2048000,
      "rowLimit": 10000
     },
     "inputWidgets": {},
     "nuid": "75a133e3-029f-4ca5-92d2-d58d2a0fee11",
     "showTitle": false,
     "title": ""
    }
   },
   "source": [
    "## 청크정보를 임베딩하여 벡터값을 구한 뒤 델타 테이블에 저장"
   ]
  },
  {
   "cell_type": "code",
   "execution_count": 0,
   "metadata": {
    "application/vnd.databricks.v1+cell": {
     "cellMetadata": {
      "byteLimit": 2048000,
      "implicitDf": true,
      "rowLimit": 10000
     },
     "inputWidgets": {},
     "nuid": "9f660cec-5307-47cd-a95c-4097e510571f",
     "showTitle": true,
     "title": "청크 정보를 저장할 델타 테이블을 생성"
    }
   },
   "outputs": [],
   "source": [
    "spark.sql(f\"\"\"\n",
    "CREATE OR REPLACE TABLE {uc_catalog}.{uc_schema}.databricks_documentation (\n",
    "  id BIGINT GENERATED BY DEFAULT AS IDENTITY\n",
    "  ,created_at TIMESTAMP\n",
    "  ,content STRING\n",
    ") TBLPROPERTIES (delta.enableChangeDataFeed = true)\n",
    "\"\"\").display()"
   ]
  },
  {
   "cell_type": "code",
   "execution_count": 0,
   "metadata": {
    "application/vnd.databricks.v1+cell": {
     "cellMetadata": {
      "byteLimit": 2048000,
      "rowLimit": 10000
     },
     "inputWidgets": {},
     "nuid": "72747a84-f7e0-4357-98f6-a35d8339a118",
     "showTitle": true,
     "title": "테이블에 청크 정보를 저장"
    }
   },
   "outputs": [],
   "source": [
    "import json\n",
    "\n",
    "for chunk in md_header_splits:\n",
    "  json_chunk = json.dumps(chunk.to_json()).replace(\"'\", \"''\")\n",
    "  spark.sql(f\"\"\"\n",
    "            INSERT INTO {uc_catalog}.{uc_schema}.databricks_documentation(content, created_at)\n",
    "            VALUES('{json_chunk}', from_utc_timestamp(current_timestamp(), 'UTC+9'))\n",
    "            \"\"\")\n",
    "\n",
    "spark.sql(f\"\"\"\n",
    "          SELECT * FROM {uc_catalog}.{uc_schema}.databricks_documentation ORDER BY id\n",
    "          \"\"\").display()"
   ]
  },
  {
   "cell_type": "code",
   "execution_count": 0,
   "metadata": {
    "application/vnd.databricks.v1+cell": {
     "cellMetadata": {
      "byteLimit": 2048000,
      "rowLimit": 10000
     },
     "inputWidgets": {},
     "nuid": "f6524846-ebe8-4837-be7f-4ac4368f67dd",
     "showTitle": true,
     "title": "Vector Store에 저장하기전 임베딩 모델 테스트"
    }
   },
   "outputs": [],
   "source": [
    "import time\n",
    "time.sleep(60)\n",
    "\n",
    "import mlflow.deployments\n",
    "deploy_client = mlflow.deployments.get_deploy_client(\"databricks\")\n",
    "\n",
    "response = deploy_client.predict(endpoint=embedding_model_name, inputs={\"input\": [\"Enlgish embedding Test.\"]})\n",
    "embeddings = [e['embedding'] for e in response.data]\n",
    "print(embeddings)\n",
    "\n",
    "time.sleep(60)\n",
    "\n",
    "response = deploy_client.predict(endpoint=embedding_model_name, inputs={\"input\": [\"한국어 임베딩 테스트 입니다.\"]})\n",
    "embeddings = [e['embedding'] for e in response.data]\n",
    "print(embeddings)\n",
    "\n",
    "time.sleep(60)\n",
    "\n",
    "response = deploy_client.predict(endpoint=embedding_model_name, inputs={\"input\": [\"Databricks와 AWS가 함께하는 Zero to GenAI.\"]})\n",
    "embeddings = [e['embedding'] for e in response.data]\n",
    "print(embeddings)\n",
    "\n",
    "time.sleep(60)"
   ]
  },
  {
   "cell_type": "markdown",
   "metadata": {
    "application/vnd.databricks.v1+cell": {
     "cellMetadata": {
      "byteLimit": 2048000,
      "rowLimit": 10000
     },
     "inputWidgets": {},
     "nuid": "c55e4a65-394f-47ab-a916-fa18bbdfe1ac",
     "showTitle": false,
     "title": ""
    }
   },
   "source": [
    "# 4. 델타 테이블에 저장한 데이터를 Databricks Vector Search에 동기화\n",
    "\n",
    "<img src=\"https://github.com/databricks-demos/dbdemos-resources/blob/main/images/product/chatbot-rag/databricks-vector-search-managed-type.png?raw=true\" style=\"float: right\" width=\"800px\">\n",
    "\n",
    "Databricks의 Vector Search는 3가지 방식의 인덱스 검색을 제공합니다:\n",
    "\n",
    "- **관리형 임베딩**: 사용자가 텍스트 열과 엔드포인트 이름을 제공하면, 데이터브릭스에서 인덱스를 델타 테이블과 동기화합니다(본 실습에서 사용할 방법).\n",
    "- **자체 관리 임베딩**: 임베딩을 직접 계산하여 델타 테이블의 필드로 저장하면, 데이터브릭스에서 인덱스를 동기화합니다.\n",
    "- **직접 인덱스**: 델타 테이블 없이 임베딩을 직접 계산하여 Vector Search에 직접 입력 합니다.\n",
    "\n",
    "이 실습에서는 **관리형 임베딩** 인덱스를 설정하는 방법을 보여드리겠습니다.\n"
   ]
  },
  {
   "cell_type": "code",
   "execution_count": 0,
   "metadata": {
    "application/vnd.databricks.v1+cell": {
     "cellMetadata": {
      "byteLimit": 2048000,
      "rowLimit": 10000
     },
     "inputWidgets": {},
     "nuid": "e79047b3-efa3-4d17-b952-697309ce13f4",
     "showTitle": true,
     "title": "Vector Search 엔드포인트 생성"
    }
   },
   "outputs": [],
   "source": [
    "from databricks.vector_search.client import VectorSearchClient\n",
    "vsc = VectorSearchClient()\n",
    "\n",
    "if not endpoint_exists(vsc, vector_search_endpoint_name):\n",
    "    vsc.create_endpoint(name=vector_search_endpoint_name, endpoint_type=\"STANDARD\")\n",
    "\n",
    "print(\"Vector Search 엔드포인트를 배포합니다. 이 작업은 10~15분 정도 소요됩니다.\")\n",
    "wait_for_vs_endpoint_to_be_ready(vsc, vector_search_endpoint_name)\n",
    "print(f\"Vector Search 엔드포인트 {vector_search_endpoint_name} 가 준비 되었습니다.\")"
   ]
  },
  {
   "cell_type": "code",
   "execution_count": 0,
   "metadata": {
    "application/vnd.databricks.v1+cell": {
     "cellMetadata": {
      "byteLimit": 2048000,
      "rowLimit": 10000
     },
     "inputWidgets": {},
     "nuid": "c50bea51-6f17-4464-bf73-ad046f186a51",
     "showTitle": true,
     "title": "청크정보를 저장한 테이블을 임베딩한 뒤 Vector Search에 동기화"
    }
   },
   "outputs": [],
   "source": [
    "from databricks.sdk import WorkspaceClient\n",
    "import databricks.sdk.service.catalog as c\n",
    "\n",
    "# 색인하려는 테이블\n",
    "source_table_fullname = f\"{uc_catalog}.{uc_schema}.databricks_documentation\"\n",
    "# 인덱스를 저장할 위치\n",
    "vs_index_fullname = f\"{uc_catalog}.{uc_schema}.databricks_documentation_vs_index\"\n",
    "\n",
    "if not index_exists(vsc, vector_search_endpoint_name, vs_index_fullname):\n",
    "  print(f\"Vector Search 인덱스 {vs_index_fullname} 를 Vector Search 엔드포인트 {vector_search_endpoint_name} 에 생성 중입니다. 이 작업은 5~10분 정도 소요됩니다.\")\n",
    "  vsc.create_delta_sync_index(\n",
    "    endpoint_name=vector_search_endpoint_name,\n",
    "    index_name=vs_index_fullname,\n",
    "    source_table_name=source_table_fullname,\n",
    "    pipeline_type=\"TRIGGERED\",\n",
    "    primary_key=\"id\",\n",
    "    embedding_source_column='content', # 텍스트가 포함된 컬럼\n",
    "    embedding_model_endpoint_name=embedding_model_name # 임베딩을 만드는 데 사용된 임베딩 엔드포인트\n",
    "  )\n",
    "  # 인덱스가 준비되고 모든 임베딩이 생성되고 인덱싱될 때까지 대기\n",
    "  wait_for_index_to_be_ready(vsc, vector_search_endpoint_name, vs_index_fullname)\n",
    "else:\n",
    "  # 동기화를 트리거하여 테이블에 저장된 새 데이터로 벡터 검색 콘텐츠를 업데이트\n",
    "  wait_for_index_to_be_ready(vsc, vector_search_endpoint_name, vs_index_fullname)\n",
    "  vsc.get_index(vector_search_endpoint_name, vs_index_fullname).sync()\n",
    "\n",
    "print(f\"index {vs_index_fullname} on table {source_table_fullname} is ready\")"
   ]
  },
  {
   "cell_type": "markdown",
   "metadata": {
    "application/vnd.databricks.v1+cell": {
     "cellMetadata": {
      "byteLimit": 2048000,
      "rowLimit": 10000
     },
     "inputWidgets": {},
     "nuid": "c30f040b-508b-4a1d-bca7-9d62947e1d3f",
     "showTitle": false,
     "title": ""
    }
   },
   "source": [
    "## 벡터값이 유사한 데이터 검색\n",
    "\n",
    "- 델타 테이블과 Vector Search를 동기화하면, Databricks가 자동으로 새 항목을 캡처하여 델타 라이브 테이블에 동기화합니다.\n",
    "- 데이터 세트 크기와 모델 크기에 따라 임베딩을 시작하고 검색하는데 10초정도가 소요될 수 있습니다.\n",
    "\n",
    "벡터값이 유사한 콘텐츠를 검색해 보겠습니다.\n"
   ]
  },
  {
   "cell_type": "code",
   "execution_count": 0,
   "metadata": {
    "application/vnd.databricks.v1+cell": {
     "cellMetadata": {
      "byteLimit": 2048000,
      "rowLimit": 10000
     },
     "inputWidgets": {},
     "nuid": "70f1471a-5d77-4243-b143-777121e294cf",
     "showTitle": true,
     "title": "Vector Search 인덱스에서 질의와 유사한 문서 검색 테스트"
    }
   },
   "outputs": [],
   "source": [
    "import mlflow.deployments\n",
    "deploy_client = mlflow.deployments.get_deploy_client(\"databricks\")\n",
    "\n",
    "question = \"SW융합산업에서 자동차 산업의 경우 구직자의 근무지는 주로 어디인가요?\"\n",
    "\n",
    "results = vsc.get_index(vector_search_endpoint_name, vs_index_fullname).similarity_search(\n",
    "  query_text=question,\n",
    "  columns=[\"created_at\", \"content\"],\n",
    "  num_results=4\n",
    ")\n",
    "docs = results.get('result', {}).get('data_array', [])\n",
    "docs"
   ]
  },
  {
   "cell_type": "markdown",
   "metadata": {
    "application/vnd.databricks.v1+cell": {
     "cellMetadata": {
      "byteLimit": 2048000,
      "rowLimit": 10000
     },
     "inputWidgets": {},
     "nuid": "6e057f6b-d7c3-45e2-8f0a-ff8432447cec",
     "showTitle": false,
     "title": ""
    }
   },
   "source": [
    "# 5. 검색 증강 생성(RAG) 및 Amazon Bedrock과 연계하여 챗봇 생성하기\n",
    "\n",
    "이제 Databricks Vector Search 인덱스가 준비되었습니다!\n",
    "\n",
    "이제 RAG를 수행하기 위해 새 RAG 모델 서비스 엔드포인트를 생성하고 배포해 보겠습니다.\n",
    "\n",
    "흐름은 다음과 같습니다:\n",
    "\n",
    "- 사용자가 질문을 합니다.\n",
    "- 질문이 서버리스 챗봇 RAG 엔드포인트로 전송됩니다.\n",
    "- 엔드포인트가 임베딩을 계산하고 벡터 검색 인덱스를 활용하여 질문과 유사한 문서를 검색합니다.\n",
    "- 엔드포인트가 해당 문서로 강화된 프롬프트를 생성합니다.\n",
    "- 프롬프트가 Amazon Bedrock Foundation 모델 서빙 엔드포인트로 전송됩니다.\n",
    "- 사용자에게 응답을 출력합니다. "
   ]
  },
  {
   "cell_type": "markdown",
   "metadata": {
    "application/vnd.databricks.v1+cell": {
     "cellMetadata": {
      "byteLimit": 2048000,
      "rowLimit": 10000
     },
     "inputWidgets": {},
     "nuid": "b2a98af1-c90a-4bd3-8e3d-c5c30a7db442",
     "showTitle": false,
     "title": ""
    }
   },
   "source": [
    "<img src=\"https://github.com/dbrxkr/zero-to-gen-ai/blob/main/img/zero-to-genai-image03.png?raw=true\" style=\"float: right; width: 100%; margin-left: 10px\">"
   ]
  },
  {
   "cell_type": "markdown",
   "metadata": {
    "application/vnd.databricks.v1+cell": {
     "cellMetadata": {
      "byteLimit": 2048000,
      "rowLimit": 10000
     },
     "inputWidgets": {},
     "nuid": "907c2b8b-6295-4502-8a56-874f8e8d7723",
     "showTitle": false,
     "title": ""
    }
   },
   "source": [
    "## 랭체인 리트리버(Langchain Retriever)\n",
    "\n",
    "랭체인 리트리버를 만드는 것부터 시작하겠습니다. \n",
    "\n",
    "리트리버는 아래와 같은 작업을 수행 합니다 : \n",
    "\n",
    "* Databricks Vector Search 인덱스가 질문의 임베딩을 계산합니다.\n",
    "* 질문과 관련된 청크를 찾아 언어 생성 파운데이션 모델에 전송할 프롬프트를 보강합니다. \n",
    "\n",
    "Databricks Langchain wrapper는 모든 기본 로직과 API 호출을 처리하여 한 단계로 쉽게 수행할 수 있게 합니다."
   ]
  },
  {
   "cell_type": "code",
   "execution_count": 0,
   "metadata": {
    "application/vnd.databricks.v1+cell": {
     "cellMetadata": {
      "byteLimit": 2048000,
      "rowLimit": 10000
     },
     "inputWidgets": {},
     "nuid": "183626f6-e18d-4e32-abc5-6ccf213ab938",
     "showTitle": true,
     "title": "벡터 인덱스 이름 확인"
    }
   },
   "outputs": [],
   "source": [
    "index_name = f\"{uc_catalog}.{uc_schema}.databricks_documentation_vs_index\"\n",
    "print(index_name)\n"
   ]
  },
  {
   "cell_type": "code",
   "execution_count": 0,
   "metadata": {
    "application/vnd.databricks.v1+cell": {
     "cellMetadata": {
      "byteLimit": 2048000,
      "rowLimit": 10000
     },
     "inputWidgets": {},
     "nuid": "6b35aae3-7842-45d9-b037-e5385d7a36ef",
     "showTitle": true,
     "title": "호스트 URL 확인"
    }
   },
   "outputs": [],
   "source": [
    "host = \"https://\" + spark.conf.get(\"spark.databricks.workspaceUrl\")\n",
    "print(host)"
   ]
  },
  {
   "cell_type": "code",
   "execution_count": 0,
   "metadata": {
    "application/vnd.databricks.v1+cell": {
     "cellMetadata": {
      "byteLimit": 2048000,
      "rowLimit": 10000
     },
     "inputWidgets": {},
     "nuid": "625c4e0c-2f44-4d8b-a740-2d776c96ce7e",
     "showTitle": true,
     "title": "벡터 검색을 위한 리트리버 생성"
    }
   },
   "outputs": [],
   "source": [
    "from databricks.vector_search.client import VectorSearchClient\n",
    "from langchain_community.vectorstores import DatabricksVectorSearch\n",
    "from langchain_community.embeddings import DatabricksEmbeddings\n",
    "\n",
    "# 랭체인 모델 임베딩 테스트\n",
    "# 참고: 질문 임베딩 모델은 이전 모델의 Chunk에 사용된 모델과 일치해야 합니다. \n",
    "embedding_model = DatabricksEmbeddings(endpoint=embedding_model_name)\n",
    "print(f\"임베딩 테스트 : {embedding_model.embed_query('대한민국의 수도는?')[:5]}...\\n\")\n",
    "\n",
    "def get_retriever(persist_dir: str = None):\n",
    "    \n",
    "    os.environ[\"DATABRICKS_HOST\"] = host\n",
    "\n",
    "    # Vector Search Client 객체 생성\n",
    "    vsc = VectorSearchClient(\n",
    "        workspace_url=host, \n",
    "        personal_access_token=databricks_token\n",
    "    )\n",
    "\n",
    "    # Vector Search Client로부터 Vector Search Index 가져오기\n",
    "    vs_index = vsc.get_index(\n",
    "        endpoint_name=vector_search_endpoint_name,\n",
    "        index_name=index_name\n",
    "    )\n",
    "\n",
    "    # Retriever 만들기\n",
    "    vectorstore = DatabricksVectorSearch(\n",
    "        index=vs_index, \n",
    "        embedding=embedding_model,\n",
    "        text_column=\"content\" \n",
    "    )\n",
    "\n",
    "    return vectorstore.as_retriever()\n",
    "\n",
    "\n",
    "# Retriever를 통해 가장 유사한 문서 4개가 반환됨\n",
    "vectorstore = get_retriever()\n",
    "#similar_documents = vectorstore.get_relevant_documents(\"자동차 기업인 General Motors의 경우 Microsoft와 협력해 개발중인 생성형AI 서비스는?\")\n",
    "similar_documents = vectorstore.invoke(\"자동차 기업인 General Motors의 경우 Microsoft와 협력해 개발중인 생성형AI 서비스는?\")\n",
    "print(f\"\\n============\\n\\nRelevant documents : {similar_documents[0]}\")\n",
    "print(f\"\\n============\\n\\nRelevant documents : {similar_documents[1]}\")\n",
    "print(f\"\\n============\\n\\nRelevant documents : {similar_documents[2]}\")\n",
    "print(f\"\\n============\\n\\nRelevant documents : {similar_documents[3]}\")\n",
    "print(f\"\\n============\\n\\nNumber of documents : {len(similar_documents)}\")"
   ]
  },
  {
   "cell_type": "markdown",
   "metadata": {
    "application/vnd.databricks.v1+cell": {
     "cellMetadata": {
      "byteLimit": 2048000,
      "rowLimit": 10000
     },
     "inputWidgets": {},
     "nuid": "8a7730d8-4d19-42cf-9e60-51085b6f0e70",
     "showTitle": false,
     "title": ""
    }
   },
   "source": [
    "## 데이터브릭스 채팅 모델을 구축하여 Amazon Bedrock 인스트럭트 파운데이션 모델 쿼리하기\n",
    "\n",
    "RAG 챗봇은 Amazon Bedrock을 파운데이션 모델을 사용하여 답변을 제공할 것입니다.  \n",
    "\n",
    "*참고: 여러 유형의 엔드포인트 또는 랭체인 모델을 사용할 수 있습니다.\n",
    "\n",
    "- Databricks Foundation 모델(DBRX, Llama3, Mixtral 등)\n",
    "- 사용자가 개발하여 배포한 모델(파인튜닝한 오픈소스 모델 등)\n",
    "- Amazon Bedrock과 같은 외부 모델 공급자 (본 실습에서 사용할 모델)"
   ]
  },
  {
   "cell_type": "code",
   "execution_count": 0,
   "metadata": {
    "application/vnd.databricks.v1+cell": {
     "cellMetadata": {
      "byteLimit": 2048000,
      "rowLimit": 10000
     },
     "inputWidgets": {},
     "nuid": "8c65759c-4fef-4fa0-b74e-41b6fbcce1a3",
     "showTitle": true,
     "title": "언어 생성 파운데이션 모델 생성 및 테스트"
    }
   },
   "outputs": [],
   "source": [
    "# 언어 생성 파운데이션 모델 테스트\n",
    "from langchain_community.chat_models import ChatDatabricks\n",
    "\n",
    "#chat_model = ChatDatabricks(endpoint=generative_model_name, max_tokens = 1500)\n",
    "chat_model = ChatDatabricks(endpoint=generative_model_name, \n",
    "                            extra_params={\"temperature\": 0.1, \"top_p\": 0.95, \"max_tokens\": 1500}\n",
    "                           )\n",
    "print(f\"파운데이션 모델 테스트 : {chat_model.invoke('자동차 기업인 General Motors의 경우 Microsoft와 협력해 개발중인 생성형AI 서비스는?')}\")"
   ]
  },
  {
   "cell_type": "markdown",
   "metadata": {
    "application/vnd.databricks.v1+cell": {
     "cellMetadata": {
      "byteLimit": 2048000,
      "rowLimit": 10000
     },
     "inputWidgets": {},
     "nuid": "8aa4ebf2-c31b-490f-bad4-5d167afb50ed",
     "showTitle": false,
     "title": ""
    }
   },
   "source": [
    "\n",
    "## RAG 체인을 조립하여 완전한 챗봇을 만들기\n",
    "\n",
    "이제 리트리버와 모델을 하나의 랭체인 체인에 병합해 보겠습니다.\n",
    "\n",
    "챗봇이 적절한 답변을 제공할 수 있도록 커스텀 랭체인 템플릿을 사용하겠습니다."
   ]
  },
  {
   "cell_type": "code",
   "execution_count": 0,
   "metadata": {
    "application/vnd.databricks.v1+cell": {
     "cellMetadata": {
      "byteLimit": 2048000,
      "rowLimit": 10000
     },
     "inputWidgets": {},
     "nuid": "255f83ca-5919-4b98-a8b3-438455e3a2e3",
     "showTitle": true,
     "title": "프롬프트 템플릿을 생성하여 체인 병합"
    }
   },
   "outputs": [],
   "source": [
    "from langchain.chains import RetrievalQA\n",
    "from langchain.prompts import PromptTemplate\n",
    "from langchain_community.chat_models import ChatDatabricks\n",
    "\n",
    "TEMPLATE = \"\"\"당신은 IT 소프트웨어(Software; SW) 인력 수요를 조사하는 연구원 입니다. 국내 SW인력 수요와 관련하여 산업에서 SW인력에게 원하는 역할과 요구사항을 답변하고 있습니다. 질문이 이러한 주제 중 하나와 관련이 없는 경우에는 답변을 거부해 주세요. 답을 모른다면 모른다고만 말하고 답을 지어내려고 하지 마세요. 가능한 간결하게 답변하세요. 모든 답변은 한국어로 높임말로 대답해야 합니다. 마지막으로 다음과 같은 문맥(context)을 활용하여 질문에 답하세요:\n",
    "{context}\n",
    "Question: {question}\n",
    "Answer:\n",
    "\"\"\"\n",
    "prompt = PromptTemplate(template=TEMPLATE, input_variables=[\"context\", \"question\"])\n",
    "\n",
    "chain = RetrievalQA.from_chain_type(\n",
    "    llm=chat_model,\n",
    "    chain_type=\"stuff\",\n",
    "    retriever=get_retriever(),\n",
    "    chain_type_kwargs={\"prompt\": prompt}\n",
    ")"
   ]
  },
  {
   "cell_type": "code",
   "execution_count": 0,
   "metadata": {
    "application/vnd.databricks.v1+cell": {
     "cellMetadata": {
      "byteLimit": 2048000,
      "rowLimit": 10000
     },
     "inputWidgets": {},
     "nuid": "4364a01b-51d2-4ff0-ad2c-d76865dda463",
     "showTitle": true,
     "title": "RAG 체인 테스트"
    }
   },
   "outputs": [],
   "source": [
    "# 만약 보내진 전체 프롬프트를 확인하고 싶다면 아래 주석을 해제하여 langchain.debug = True를 사용\n",
    "# langchain.debug = True\n",
    "question = {\"query\": \"석사에게 첫번째로 요구되는 SW기술 스택 수요는 무엇인가요?\"}\n",
    "answer = chain.invoke(question)\n",
    "print(answer)\n",
    "\n",
    "# 엔드포인트에서 쿼리를 하고자 한다면 아래 구문 사용\n",
    "\"\"\"\n",
    "{\n",
    "  \"dataframe_split\": {\n",
    "    \"columns\": [\n",
    "      \"query\"\n",
    "    ],\n",
    "    \"data\": [\n",
    "      [\n",
    "        \"석사에게 첫번째로 요구되는 SW기술 스택 수요는 무엇인가요?\"\n",
    "      ]\n",
    "    ]\n",
    "  }\n",
    "}\n",
    "\"\"\""
   ]
  },
  {
   "cell_type": "markdown",
   "metadata": {
    "application/vnd.databricks.v1+cell": {
     "cellMetadata": {
      "byteLimit": 2048000,
      "rowLimit": 10000
     },
     "inputWidgets": {},
     "nuid": "a455c964-ad6d-4f8b-baa6-214a957f9d73",
     "showTitle": false,
     "title": ""
    }
   },
   "source": [
    "# 6. 모델을 Unity Catalog에 저장 후 모델 서빙하기"
   ]
  },
  {
   "cell_type": "markdown",
   "metadata": {
    "application/vnd.databricks.v1+cell": {
     "cellMetadata": {
      "byteLimit": 2048000,
      "rowLimit": 10000
     },
     "inputWidgets": {},
     "nuid": "64df6893-c5aa-4aca-ba39-c4ba3892c441",
     "showTitle": false,
     "title": ""
    }
   },
   "source": [
    "## Unity Catalog 레지스트리에 모델 저장하기\n",
    "\n",
    "생성한 RAG 체인 모델을 Unity Catalog 스키마에 등록"
   ]
  },
  {
   "cell_type": "code",
   "execution_count": 0,
   "metadata": {
    "application/vnd.databricks.v1+cell": {
     "cellMetadata": {
      "byteLimit": 2048000,
      "rowLimit": 10000
     },
     "inputWidgets": {},
     "nuid": "e17c51b4-0039-43bb-96e0-fc55f0e5ed46",
     "showTitle": true,
     "title": "생성한 RAG 체인 모델을 Unity Catalog 스키마에 등록"
    }
   },
   "outputs": [],
   "source": [
    "from mlflow.models import infer_signature\n",
    "import mlflow\n",
    "import langchain\n",
    "\n",
    "mlflow.set_registry_uri(\"databricks-uc\")\n",
    "model_name = f\"{uc_catalog}.{uc_schema}.my_chatbot_model\"\n",
    "\n",
    "with mlflow.start_run(run_name=\"my_chatbot_rag\") as run:\n",
    "    signature = infer_signature(question, answer)\n",
    "    model_info = mlflow.langchain.log_model(\n",
    "        chain,\n",
    "        loader_fn=get_retriever,  # 인증을 위해 DATABRICKS_TOKEN 환경변수값을 로드하며 리트리버 로드 \n",
    "        artifact_path=\"chain\",\n",
    "        registered_model_name=model_name,\n",
    "        pip_requirements=[\n",
    "            \"mlflow==\" + mlflow.__version__,\n",
    "            \"langchain==\" + langchain.__version__,\n",
    "            \"databricks-vectorsearch\",\n",
    "        ],\n",
    "        input_example=question,\n",
    "        signature=signature\n",
    "    )"
   ]
  },
  {
   "cell_type": "markdown",
   "metadata": {
    "application/vnd.databricks.v1+cell": {
     "cellMetadata": {
      "byteLimit": 2048000,
      "rowLimit": 10000
     },
     "inputWidgets": {},
     "nuid": "4e473a48-0ac9-4d31-8cf2-2532cf5f5205",
     "showTitle": false,
     "title": ""
    }
   },
   "source": [
    "## 채팅 모델을 서버리스 모델 엔드포인트로 배포하기 \n",
    "\n",
    "Unity Catalog에 저장된 RAG 체인 모델을 모델 서빙으로 배포"
   ]
  },
  {
   "cell_type": "code",
   "execution_count": 0,
   "metadata": {
    "application/vnd.databricks.v1+cell": {
     "cellMetadata": {
      "byteLimit": 2048000,
      "rowLimit": 10000
     },
     "inputWidgets": {},
     "nuid": "017db836-ad7d-4d1e-a68f-2d70bee6b342",
     "showTitle": true,
     "title": "Unity Catalog에 저장된 RAG 체인 모델을 모델 서빙으로 배포"
    }
   },
   "outputs": [],
   "source": [
    "# 서빙 엔드포인트 생성 또는 업데이트\n",
    "from databricks.sdk import WorkspaceClient\n",
    "from databricks.sdk.service.serving import EndpointCoreConfigInput, ServedModelInput, ServedModelInputWorkloadSize\n",
    "import datetime\n",
    "\n",
    "latest_model_version = get_latest_model_version(model_name)\n",
    "\n",
    "w = WorkspaceClient()\n",
    "endpoint_config = EndpointCoreConfigInput(\n",
    "    name=serving_endpoint_name,\n",
    "    served_models=[\n",
    "        ServedModelInput(\n",
    "            model_name=model_name,\n",
    "            model_version=latest_model_version,\n",
    "            workload_size=ServedModelInputWorkloadSize.SMALL,\n",
    "            scale_to_zero_enabled=False,\n",
    "            environment_vars={                \n",
    "                \"DATABRICKS_TOKEN\": f\"{databricks_token}\",\n",
    "            }\n",
    "        )\n",
    "    ]\n",
    ")\n",
    "\n",
    "existing_endpoint = next(\n",
    "    (e for e in w.serving_endpoints.list() if e.name == serving_endpoint_name), None\n",
    ")\n",
    "serving_endpoint_url = f\"{host}/ml/endpoints/{serving_endpoint_name}\"\n",
    "if existing_endpoint == None:\n",
    "    print(f\"엔드포인트 {serving_endpoint_url} 를 생성하고 있습니다. 엔드포인트를 배포하는데 20~25분 정도 소요됩니다. 잠시만 기다려 주세요...\")\n",
    "    w.serving_endpoints.create_and_wait(name=serving_endpoint_name, config=endpoint_config, timeout=datetime.timedelta(minutes=60))\n",
    "else:\n",
    "    print(f\"엔드포인트 {serving_endpoint_url} 버전 {latest_model_version} 을 업데이트 하고 있습니다. 엔드포인트를 배포하는데 20~25분 정도 소요됩니다. 잠시만 기다려 주세요...\")\n",
    "    w.serving_endpoints.update_config_and_wait(served_models=endpoint_config.served_models, name=serving_endpoint_name, timeout=datetime.timedelta(minutes=60))\n",
    "    \n",
    "displayHTML(f'이제 모델 엔드포인트 서빙을 사용할 수 있습니다. 자세한 내용은 <a href=\"/ml/endpoints/{serving_endpoint_name}\">모델 제공 엔드포인트 페이지</a>를 참조하세요.')"
   ]
  },
  {
   "cell_type": "markdown",
   "metadata": {
    "application/vnd.databricks.v1+cell": {
     "cellMetadata": {
      "byteLimit": 2048000,
      "rowLimit": 10000
     },
     "inputWidgets": {},
     "nuid": "4cc978ea-b5f9-44ea-a11e-601fed791139",
     "showTitle": false,
     "title": ""
    }
   },
   "source": [
    "## 엔드포인트 배포 확인하기\n",
    "이제 엔드포인트가 배포되었습니다\n",
    "서빙 엔드포인트 [UI](#/mlflow/endpoints)에서 엔드포인트 이름을 검색하고 성능을 시각화할 수 있습니다.\n",
    "\n",
    "Python에서 쿼리를 실행해 보겠습니다. "
   ]
  },
  {
   "cell_type": "code",
   "execution_count": 0,
   "metadata": {
    "application/vnd.databricks.v1+cell": {
     "cellMetadata": {
      "byteLimit": 2048000,
      "rowLimit": 10000
     },
     "inputWidgets": {},
     "nuid": "85f2bca0-931c-451c-b354-314765f1e0b4",
     "showTitle": true,
     "title": "사용자 ID 확인"
    }
   },
   "outputs": [],
   "source": [
    "email = spark.sql('select current_user() as user').collect()[0]['user']\n",
    "print(email)"
   ]
  },
  {
   "cell_type": "code",
   "execution_count": 0,
   "metadata": {
    "application/vnd.databricks.v1+cell": {
     "cellMetadata": {
      "byteLimit": 2048000,
      "rowLimit": 10000
     },
     "inputWidgets": {},
     "nuid": "f3a346b5-b830-4975-9a09-adf5c146a40d",
     "showTitle": true,
     "title": "확인된 사용자에게 카탈로그 및 스키마 권한 부여"
    }
   },
   "outputs": [],
   "source": [
    "#spark.sql(f\"GRANT USAGE ON CATALOG {uc_catalog} TO `{email}`\");\n",
    "spark.sql(f\"GRANT USAGE ON DATABASE {uc_catalog}.{uc_schema} TO `{email}`\");"
   ]
  },
  {
   "cell_type": "code",
   "execution_count": 0,
   "metadata": {
    "application/vnd.databricks.v1+cell": {
     "cellMetadata": {
      "byteLimit": 2048000,
      "rowLimit": 10000
     },
     "inputWidgets": {},
     "nuid": "48f09009-5430-4f6b-aa70-c4247107a7b1",
     "showTitle": true,
     "title": "확인된 사용자에게 Vector Search 인덱스 조회 권한 부여"
    }
   },
   "outputs": [],
   "source": [
    "from databricks.sdk import WorkspaceClient\n",
    "import databricks.sdk.service.catalog as c\n",
    "WorkspaceClient().grants.update(c.SecurableType.TABLE, f\"{uc_catalog}.{uc_schema}.databricks_documentation_vs_index\", \n",
    "                                changes=[c.PermissionsChange(add=[c.Privilege[\"SELECT\"]], principal=f\"{email}\")])"
   ]
  },
  {
   "cell_type": "code",
   "execution_count": 0,
   "metadata": {
    "application/vnd.databricks.v1+cell": {
     "cellMetadata": {
      "byteLimit": 2048000,
      "rowLimit": 10000
     },
     "inputWidgets": {},
     "nuid": "f228c760-ae76-4527-90f6-968b3b592cfd",
     "showTitle": true,
     "title": "배포된 RAG 체인 엔드포인트에 쿼리 테스트"
    }
   },
   "outputs": [],
   "source": [
    "question = \"헬스케어 시장 내 IT시장의 세계시장규모 성장세에 대해서 세문장 이내로 설명해 주세요.\"\n",
    "print(w.serving_endpoints)\n",
    "answer = w.serving_endpoints.query(serving_endpoint_name, inputs=[{\"query\": question}])\n",
    "print(answer.predictions[0])\n"
   ]
  },
  {
   "cell_type": "markdown",
   "metadata": {
    "application/vnd.databricks.v1+cell": {
     "cellMetadata": {
      "byteLimit": 2048000,
      "rowLimit": 10000
     },
     "inputWidgets": {},
     "nuid": "e5e5a56f-84dc-433e-bff7-bd2d018fb38e",
     "showTitle": false,
     "title": ""
    }
   },
   "source": [
    "\n",
    "# 7. Gradio UI를 만들기위한 코드 생성\n",
    "- Gradio를 사용하여 UI를 만들기위한 코드를 생성\n",
    "- 위에서 생성한 SERVING_ENDPOINT_URL을 사용하여 쿼리\n",
    "- 미리 생성한 DATABRICKS_TOKEN을 사용하여 인증\n",
    "- 생성된 app.py 파일을 다운로드하여 로컬 PC에서 실행하여 테스트"
   ]
  },
  {
   "cell_type": "code",
   "execution_count": 0,
   "metadata": {
    "application/vnd.databricks.v1+cell": {
     "cellMetadata": {
      "byteLimit": 2048000,
      "rowLimit": 10000
     },
     "inputWidgets": {},
     "nuid": "223f11c0-c3c5-4f94-b894-98abf2136ae6",
     "showTitle": true,
     "title": "RAG 챗봇 테스트를 위해 Gradio를 사용하여 UI 생성"
    }
   },
   "outputs": [],
   "source": [
    "# 관련 Python 패키지 로드.\n",
    "import gradio as gr\n",
    "import os\n",
    "import requests\n",
    "import pandas as pd\n",
    "import json\n",
    "\n",
    "\n",
    "# 환경 변수 설정. 실제 환경에서는 OS레벨에서 환경 변수로 설정 하여 보안을 강화해야합니다.\n",
    "os.environ['SERVING_ENDPOINT_URL'] = f\"{host}/serving-endpoints/{serving_endpoint_name}/invocations\"\n",
    "os.environ['DATABRICKS_TOKEN'] = f\"{databricks_token}\"\n",
    "\n",
    "\n",
    "# 질의를 JSON 형태로 변환.\n",
    "def create_tf_serving_json(data):\n",
    "    return {'inputs': {name: data[name] for name in data.keys()} if isinstance(data, dict) else data}\n",
    "\n",
    "\n",
    "# Databricks RAG 서빙 엔드포인트에 쿼리.\n",
    "def rag_invoke(dataset):\n",
    "    url = f'{os.environ.get(\"SERVING_ENDPOINT_URL\")}'\n",
    "    headers = {'Authorization': f'Bearer {os.environ.get(\"DATABRICKS_TOKEN\")}', 'Content-Type': 'application/json'}\n",
    "    ds_dict = {'dataframe_split': dataset.to_dict(orient='split')} if isinstance(dataset, pd.DataFrame) else create_tf_serving_json(dataset)\n",
    "    print(ds_dict)\n",
    "    data_json = json.dumps(ds_dict, allow_nan=True)\n",
    "    response = requests.request(method='POST', headers=headers, url=url, data=data_json)\n",
    "    if response.status_code != 200:\n",
    "        raise Exception(f'Request failed with status {response.status_code}, {response.text}')\n",
    "    return response.json()\n",
    "\n",
    "\n",
    "# Gradio에서 입력받은 질의에 대한 응답을 생성. message는 사용자의 질의 메시지이며, history는 과거 대화이력, additional_input_info는 additional_inputs의 메시지.\n",
    "def answer_chat(message, history, additional_input_info):\n",
    "     \n",
    "    if len(history) == 0 :\n",
    "        query_string = f\"\"\"{message}. \n",
    "                    {additional_input_info}.\"\"\"\n",
    "    else :\n",
    "        query_string = f\"\"\"{message}.\n",
    "                    {additional_input_info}. \n",
    "                    참고로 이전의 질문과 답변은 다음과 같습니다. 질문 : {history[len(history)-1][0]}. 답변 : {history[len(history)-1][1]}\"\"\"\n",
    "        \n",
    "    query_json = {\"query\": [query_string]}    \n",
    "    rag_response = rag_invoke(query_json)    \n",
    "    answer = rag_response['predictions'][0]\n",
    "\n",
    "    print(query_json)\n",
    "    print(answer)\n",
    "\n",
    "    return answer\n",
    "\n",
    "\n",
    "# Gradio Blocks 구문\n",
    "with gr.Blocks(theme=gr.themes.Soft()) as demo:\n",
    "\n",
    "    # 버튼 스타일을 위한 CSS 추가\n",
    "    gr.HTML(\n",
    "        \"\"\"\n",
    "        <style>   \n",
    "        #chatbot {\n",
    "            border: 2px solid #787efa !important;\n",
    "            background-color: white !important;\n",
    "            color: black !important;            \n",
    "        }            \n",
    "        #submit-btn {\n",
    "            background-color: #787efa !important;\n",
    "            color: white !important;\n",
    "            border: none !important;\n",
    "            padding: 10px 20px !important;\n",
    "            font-size: 16px !important;\n",
    "            cursor: pointer !important;\n",
    "        }\n",
    "        #submit-btn:hover {\n",
    "            background-color: #5c64fa !important;\n",
    "        }\n",
    "        #message-input {\n",
    "            border: 2px solid #787efa !important;\n",
    "            background-color: white !important;\n",
    "            color: black !important;   \n",
    "        }        \n",
    "        </style>\n",
    "        \"\"\"\n",
    "    )\n",
    "\n",
    "    gr.Markdown(\n",
    "        \"\"\"\n",
    "        # Zero to GenAI 워크샵 RAG 봇\n",
    "        이 챗봇은 IT 소프트웨어 인력 수요 정보를 검색하는 LLM RAG 데모 예제입니다. <br>\n",
    "        Databricks Vector Search 데이터베이스에 저장된 문서에서 유사한 문서를 찾아서 답변합니다.\n",
    "        \"\"\"\n",
    "    )\n",
    "\n",
    "    # 대화 목록\n",
    "    chatbot = gr.Chatbot(height=400, elem_id=\"chatbot\")\n",
    "    \n",
    "    # 대화 입력\n",
    "    \n",
    "\n",
    "    # 전송 버튼\n",
    "    with gr.Row():\n",
    "        message_input = gr.Textbox(placeholder=\"대화를 입력하세요.\", container=False, scale=7, elem_id=\"message-input\")\n",
    "        submit_btn = gr.Button(\"메시지 전송\", elem_id=\"submit-btn\")\n",
    "\n",
    "    # 추가 프롬프트 입력\n",
    "    with gr.Row():\n",
    "        additional_input_info = gr.Textbox(\"\", label=\"추가 프롬프트 입력\")\n",
    "    \n",
    "    # 예제 입력\n",
    "    examples = gr.Examples(\n",
    "        examples=[\n",
    "            [\"자동차 기업인 General Motors가 Microsoft와 협력해 개발중인 생성형AI 서비스는?\"], \n",
    "            [\"헬스케어 시장 내 IT시장의 세계시장규모 성장세에 대해서 세문장 이내로 설명해 주세요.\"],\n",
    "            [\"소프트웨어진흥법 제2조 6의 내용은 무엇인가요?\"],\n",
    "            [\"석사에게 첫번째로 요구되는 SW기술 스택 수요는 무엇인가요?\"],\n",
    "            [\"SW융합산업에서 자동차 산업의 경우 구직자의 근무지는 주로 어디인가요?\"],\n",
    "        ],\n",
    "        inputs=[message_input]\n",
    "    )\n",
    "\n",
    "    # 전체대화 삭제, 이전대화 삭제 버튼\n",
    "    with gr.Row():\n",
    "        clear_btn = gr.Button(\"전체대화 삭제\")\n",
    "        undo_btn = gr.Button(\"이전대화 삭제\")\n",
    "\n",
    "    \n",
    "    def handle_submit(message, history, additional_input_info):\n",
    "        response = answer_chat(message, history, additional_input_info)\n",
    "        history.append((message, response))\n",
    "        return history\n",
    "    \n",
    "    message_input.submit(\n",
    "        fn=handle_submit,\n",
    "        inputs=[message_input, chatbot, additional_input_info],\n",
    "        outputs=[chatbot]\n",
    "    )\n",
    "\n",
    "    submit_btn.click(\n",
    "        fn=handle_submit,\n",
    "        inputs=[message_input, chatbot, additional_input_info],\n",
    "        outputs=[chatbot]\n",
    "    )\n",
    "    \n",
    "    clear_btn.click(lambda: [], None, chatbot)\n",
    "    undo_btn.click(lambda history: history[:-1], chatbot, chatbot)\n",
    "\n",
    "#demo.launch(server_name=\"localhost\", server_port=8080)\n"
   ]
  },
  {
   "cell_type": "code",
   "execution_count": 0,
   "metadata": {
    "application/vnd.databricks.v1+cell": {
     "cellMetadata": {
      "byteLimit": 2048000,
      "rowLimit": 10000
     },
     "inputWidgets": {},
     "nuid": "a048e433-958b-4c40-b50d-5316a3b33266",
     "showTitle": true,
     "title": "Gradio로 개발된 UI를 Spark Driver 노드에 임시로 구동하여 테스트"
    }
   },
   "outputs": [],
   "source": [
    "from dbtunnel import dbtunnel\n",
    "dbtunnel.gradio(demo).run()"
   ]
  },
  {
   "cell_type": "markdown",
   "metadata": {
    "application/vnd.databricks.v1+cell": {
     "cellMetadata": {
      "byteLimit": 2048000,
      "rowLimit": 10000
     },
     "inputWidgets": {},
     "nuid": "730d5243-c436-44cf-91ef-712bac58ab2b",
     "showTitle": false,
     "title": ""
    }
   },
   "source": [
    "# 8. 교육 내용 초기화\n",
    "<br/>\n",
    "<div style=\"background-color: #fad7d0; padding: 15px; boarder: 30px; \">\n",
    "  <strong>⛔ 주 의</strong><br/>\n",
    "  - 아래셀은 교육 컨텐츠를 초기화 하는 스크립트 입니다<br/>\n",
    "  - 아래 주석을 해제하고 실행하면 실습 스키마를 완전히 삭제합니다<br/>  \n",
    "</div>"
   ]
  },
  {
   "cell_type": "code",
   "execution_count": 0,
   "metadata": {
    "application/vnd.databricks.v1+cell": {
     "cellMetadata": {
      "byteLimit": 2048000,
      "rowLimit": 10000
     },
     "inputWidgets": {},
     "nuid": "465aef19-bf7c-45b6-9893-a96aa5f00583",
     "showTitle": false,
     "title": ""
    }
   },
   "outputs": [],
   "source": [
    "# ⛔ 아래 주석을 해제하고 실행하면 실습 스키마를 완전히 삭제합니다 ⛔\n",
    "# cleanup_demo(catalog, db, serving_endpoint_name, f\"{uc_catalog}.{uc_schema}.databricks_documentation_vs_index\")"
   ]
  },
  {
   "cell_type": "markdown",
   "metadata": {
    "application/vnd.databricks.v1+cell": {
     "cellMetadata": {
      "byteLimit": 2048000,
      "rowLimit": 10000
     },
     "inputWidgets": {},
     "nuid": "184ca912-9c3e-4cd9-9d90-239ad281bfef",
     "showTitle": false,
     "title": ""
    }
   },
   "source": [
    "\n",
    "%md\n",
    "<img src=\"https://github.com/dbrxkr/zero-to-gen-ai/blob/main/img/zero-to-genai-footer-black.png?raw=true\" style=\"float: right; width: 100%; margin-left: 10px\">\n",
    "\n"
   ]
  }
 ],
 "metadata": {
  "application/vnd.databricks.v1+notebook": {
   "dashboards": [],
   "environmentMetadata": {
    "base_environment": "",
    "client": "1"
   },
   "language": "python",
   "notebookMetadata": {
    "mostRecentlyExecutedCommandWithImplicitDF": {
     "commandId": 4498446202405918,
     "dataframes": [
      "_sqldf"
     ]
    },
    "pythonIndentUnit": 2
   },
   "notebookName": "Zero-to-GenAI-Workshop",
   "widgets": {}
  }
 },
 "nbformat": 4,
 "nbformat_minor": 0
}
